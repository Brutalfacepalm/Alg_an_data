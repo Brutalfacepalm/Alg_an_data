{
 "cells": [
  {
   "cell_type": "markdown",
   "metadata": {},
   "source": [
    "1. В коде из методички реализуйте один или несколько из критериев останова (количество листьев, количество используемых признаков, глубина дерева и т.д.)  "
   ]
  },
  {
   "cell_type": "code",
   "execution_count": 1,
   "metadata": {
    "colab": {},
    "colab_type": "code",
    "id": "u7Xi827dabXb"
   },
   "outputs": [],
   "source": [
    "import matplotlib.pyplot as plt\n",
    "import random\n",
    "\n",
    "from matplotlib.colors import ListedColormap\n",
    "from sklearn import datasets\n",
    "\n",
    "import numpy as np"
   ]
  },
  {
   "cell_type": "code",
   "execution_count": 2,
   "metadata": {
    "colab": {},
    "colab_type": "code",
    "id": "6FZaieu8abXe"
   },
   "outputs": [],
   "source": [
    "# сгенерируем данные\n",
    "classification_data, classification_labels = datasets.make_classification(n_features = 2, n_informative = 2, \n",
    "                                                      n_classes = 2, n_redundant=0, \n",
    "                                                      n_clusters_per_class=1, random_state=5)"
   ]
  },
  {
   "cell_type": "code",
   "execution_count": 3,
   "metadata": {
    "colab": {
     "base_uri": "https://localhost:8080/",
     "height": 501
    },
    "colab_type": "code",
    "executionInfo": {
     "elapsed": 1579,
     "status": "ok",
     "timestamp": 1576241785538,
     "user": {
      "displayName": "Victor Sergevnin",
      "photoUrl": "",
      "userId": "00795386645800606002"
     },
     "user_tz": -180
    },
    "id": "FHpOr1k6abXg",
    "outputId": "076d8a8e-c6f4-4296-a571-c1570c7991df",
    "scrolled": false
   },
   "outputs": [
    {
     "data": {
      "text/plain": [
       "<matplotlib.collections.PathCollection at 0x26d8e1fd208>"
      ]
     },
     "execution_count": 3,
     "metadata": {},
     "output_type": "execute_result"
    },
    {
     "data": {
      "image/png": "[encoded data removed]",
      "text/plain": [
       "<Figure size 576x576 with 1 Axes>"
      ]
     },
     "metadata": {
      "needs_background": "light"
     },
     "output_type": "display_data"
    }
   ],
   "source": [
    "# визуализируем сгенерированные данные\n",
    "\n",
    "colors = ListedColormap(['red', 'blue'])\n",
    "light_colors = ListedColormap(['lightcoral', 'lightblue'])\n",
    "\n",
    "plt.figure(figsize=(8,8))\n",
    "plt.scatter(list(map(lambda x: x[0], classification_data)), list(map(lambda x: x[1], classification_data)), \n",
    "              c=classification_labels, cmap=colors)"
   ]
  },
  {
   "cell_type": "code",
   "execution_count": 4,
   "metadata": {
    "colab": {},
    "colab_type": "code",
    "id": "Duu45IJUabXi"
   },
   "outputs": [],
   "source": [
    "# Реализуем класс узла\n",
    "\n",
    "class Node:\n",
    "    \n",
    "    def __init__(self, index, t, true_branch, false_branch):\n",
    "        self.index = index  # индекс признака, по которому ведется сравнение с порогом в этом узле\n",
    "        self.t = t  # значение порога\n",
    "        self.true_branch = true_branch  # поддерево, удовлетворяющее условию в узле\n",
    "        self.false_branch = false_branch  # поддерево, не удовлетворяющее условию в узле"
   ]
  },
  {
   "cell_type": "code",
   "execution_count": 5,
   "metadata": {
    "colab": {},
    "colab_type": "code",
    "id": "QY8oNtakabXl"
   },
   "outputs": [],
   "source": [
    "# И класс терминального узла (листа)\n",
    "\n",
    "class Leaf:\n",
    "    \n",
    "    def __init__(self, data, labels):\n",
    "        self.data = data\n",
    "        self.labels = labels\n",
    "        self.prediction = self.predict()\n",
    "        \n",
    "    def predict(self):\n",
    "        # подсчет количества объектов разных классов\n",
    "        classes = {}  # сформируем словарь \"класс: количество объектов\"\n",
    "        for label in self.labels:\n",
    "            if label not in classes:\n",
    "                classes[label] = 0\n",
    "            classes[label] += 1\n",
    "        #  найдем класс, количество объектов которого будет максимальным в этом листе и вернем его    \n",
    "        prediction = max(classes, key=classes.get)\n",
    "        return prediction        "
   ]
  },
  {
   "cell_type": "code",
   "execution_count": 6,
   "metadata": {
    "colab": {},
    "colab_type": "code",
    "id": "uBdli3WDabXn"
   },
   "outputs": [],
   "source": [
    "# Расчет энтропии\n",
    "\n",
    "def entropy(labels):\n",
    "    #  подсчет количества объектов разных классов\n",
    "    classes = {}\n",
    "    for label in labels:\n",
    "        if label not in classes:\n",
    "            classes[label] = 0\n",
    "        classes[label] += 1\n",
    "    \n",
    "    #  расчет критерия\n",
    "    impurity = 0\n",
    "    for label in classes:\n",
    "        p = classes[label] / len(labels)\n",
    "        impurity -= p * np.log(p)\n",
    "        \n",
    "    return impurity"
   ]
  },
  {
   "cell_type": "code",
   "execution_count": 7,
   "metadata": {
    "colab": {},
    "colab_type": "code",
    "id": "9vvLDhuRabXr"
   },
   "outputs": [],
   "source": [
    "# Расчет качества\n",
    "\n",
    "def quality(left_labels, right_labels, current_entropy):\n",
    "\n",
    "    # доля выбоки, ушедшая в левое поддерево\n",
    "    p = float(left_labels.shape[0]) / (left_labels.shape[0] + right_labels.shape[0])\n",
    "    \n",
    "    return current_entropy - p * entropy(left_labels) - (1 - p) * entropy(right_labels)"
   ]
  },
  {
   "cell_type": "code",
   "execution_count": 8,
   "metadata": {
    "colab": {},
    "colab_type": "code",
    "id": "nhWkphi3abXt"
   },
   "outputs": [],
   "source": [
    "# Разбиение датасета в узле\n",
    "\n",
    "def split(data, labels, index, t):\n",
    "    \n",
    "    left = np.where(data[:, index] <= t)\n",
    "    right = np.where(data[:, index] > t)\n",
    "        \n",
    "    true_data = data[left]\n",
    "    false_data = data[right]\n",
    "    true_labels = labels[left]\n",
    "    false_labels = labels[right]\n",
    "        \n",
    "    return true_data, false_data, true_labels, false_labels"
   ]
  },
  {
   "cell_type": "code",
   "execution_count": 9,
   "metadata": {
    "colab": {},
    "colab_type": "code",
    "id": "5wi8Fbs_abXw"
   },
   "outputs": [],
   "source": [
    "# Нахождение наилучшего разбиения\n",
    "\n",
    "def find_best_split(data, labels, min_leaf = 5, n_features = None):\n",
    "    if n_features == None:\n",
    "        n_features = data.shape[1]\n",
    "        \n",
    "    current_entropy = entropy(labels)\n",
    "\n",
    "    best_quality = 0\n",
    "    best_t = None\n",
    "    best_index = None\n",
    "    \n",
    "    \n",
    "    \n",
    "    for index in range(n_features):\n",
    "        # будем проверять только уникальные значения признака, исключая повторения\n",
    "        t_values = np.unique([row[index] for row in data])\n",
    "        \n",
    "        for t in t_values:\n",
    "            true_data, false_data, true_labels, false_labels = split(data, labels, index, t)\n",
    "            #  пропускаем разбиения, в которых в узле остается менее 5 объектов\n",
    "            if len(true_data) < min_leaf or len(false_data) < min_leaf:\n",
    "                continue\n",
    "            \n",
    "            current_quality = quality(true_labels, false_labels, current_entropy)\n",
    "            \n",
    "            #  выбираем порог, на котором получается максимальный прирост качества\n",
    "            if current_quality > best_quality:\n",
    "                best_quality, best_t, best_index = current_quality, t, index\n",
    "\n",
    "    return best_quality, best_t, best_index"
   ]
  },
  {
   "cell_type": "code",
   "execution_count": 10,
   "metadata": {
    "colab": {},
    "colab_type": "code",
    "id": "f1__qSXSabXy"
   },
   "outputs": [],
   "source": [
    "# Построение дерева с помощью рекурсивной функции\n",
    "\n",
    "def build_tree(data, labels, current_depth=0, min_leaf=None, n_features=None, max_depth=None):\n",
    "    \n",
    "    \n",
    "    attrs = [data, labels, min_leaf, n_features]\n",
    "    \n",
    "    if min_leaf==None:\n",
    "        attrs = [data, labels, n_features]\n",
    "    if n_features==None:\n",
    "        attrs = [data, labels, min_leaf]\n",
    "    if min_leaf==None and n_features==None:\n",
    "        attrs = [data, labels]\n",
    "    quality, t, index = find_best_split(*attrs)\n",
    "           \n",
    "\n",
    "    #  Базовый случай - прекращаем рекурсию, когда нет прироста в качества или достигнута максимальная глубина дерева\n",
    "    if quality == 0 or current_depth == max_depth:\n",
    "        return Leaf(data, labels)\n",
    "            \n",
    "\n",
    "    true_data, false_data, true_labels, false_labels = split(data, labels, index, t)\n",
    "    current_depth += 1\n",
    "    # Рекурсивно строим два поддерева\n",
    "    true_branch = build_tree(true_data, true_labels, current_depth=current_depth, \n",
    "                             min_leaf=min_leaf, n_features=n_features, max_depth=max_depth)\n",
    "    false_branch = build_tree(false_data, false_labels, current_depth=current_depth, \n",
    "                             min_leaf=min_leaf, n_features=n_features, max_depth=max_depth)\n",
    "\n",
    "    # Возвращаем класс узла со всеми поддеревьями, то есть целого дерева\n",
    "    return Node(index, t, true_branch, false_branch)"
   ]
  },
  {
   "cell_type": "code",
   "execution_count": 11,
   "metadata": {
    "colab": {},
    "colab_type": "code",
    "id": "F7ruKazCabX3"
   },
   "outputs": [],
   "source": [
    "def classify_object(obj, node):\n",
    "\n",
    "    #  Останавливаем рекурсию, если достигли листа\n",
    "    if isinstance(node, Leaf):\n",
    "        answer = node.prediction\n",
    "        return answer\n",
    "\n",
    "    if obj[node.index] <= node.t:\n",
    "        return classify_object(obj, node.true_branch)\n",
    "    else:\n",
    "        return classify_object(obj, node.false_branch)"
   ]
  },
  {
   "cell_type": "code",
   "execution_count": 12,
   "metadata": {
    "colab": {},
    "colab_type": "code",
    "id": "SLOdTAqdabX7"
   },
   "outputs": [],
   "source": [
    "def predict(data, tree):\n",
    "    \n",
    "    classes = []\n",
    "    for obj in data:\n",
    "        prediction = classify_object(obj, tree)\n",
    "        classes.append(prediction)\n",
    "    return classes"
   ]
  },
  {
   "cell_type": "code",
   "execution_count": 13,
   "metadata": {
    "colab": {},
    "colab_type": "code",
    "id": "wnDPkwVJabYA"
   },
   "outputs": [],
   "source": [
    "# Разобьем выборку на обучающую и тестовую\n",
    "\n",
    "from sklearn import model_selection\n",
    "\n",
    "train_data, test_data, train_labels, test_labels = model_selection.train_test_split(classification_data, \n",
    "                                                                                     classification_labels, \n",
    "                                                                                     test_size = 0.3,\n",
    "                                                                                     random_state = 1)"
   ]
  },
  {
   "cell_type": "code",
   "execution_count": 14,
   "metadata": {
    "colab": {},
    "colab_type": "code",
    "id": "UbbvkqvOabYD"
   },
   "outputs": [],
   "source": [
    "# Построим дерево по обучающей выборке\n",
    "my_tree = build_tree(train_data, train_labels, max_depth = 4)"
   ]
  },
  {
   "cell_type": "code",
   "execution_count": 15,
   "metadata": {
    "colab": {
     "base_uri": "https://localhost:8080/",
     "height": 311
    },
    "colab_type": "code",
    "executionInfo": {
     "elapsed": 1893,
     "status": "ok",
     "timestamp": 1576241785980,
     "user": {
      "displayName": "Victor Sergevnin",
      "photoUrl": "",
      "userId": "00795386645800606002"
     },
     "user_tz": -180
    },
    "id": "GF1rVs9VabYG",
    "outputId": "2f7d40ba-e20d-4b45-c7c5-9d4d15cba329",
    "scrolled": true
   },
   "outputs": [
    {
     "name": "stdout",
     "output_type": "stream",
     "text": [
      "Индекс 0\n",
      "Порог 0.16261402870113306\n",
      "--> True:\n",
      "  Индекс 1\n",
      "  Порог -1.5208896621663803\n",
      "  --> True:\n",
      "    Индекс 0\n",
      "    Порог -0.9478301462477035\n",
      "    --> True:\n",
      "      Прогноз: 0\n",
      "    --> False:\n",
      "      Прогноз: 1\n",
      "  --> False:\n",
      "    Прогноз: 0\n",
      "--> False:\n",
      "  Прогноз: 1\n"
     ]
    }
   ],
   "source": [
    "# Напечатаем ход нашего дерева\n",
    "def print_tree(node, spacing=\"\"):\n",
    "\n",
    "    # Если лист, то выводим его прогноз\n",
    "    if isinstance(node, Leaf):\n",
    "        print(spacing + \"Прогноз:\", node.prediction)\n",
    "        return\n",
    "\n",
    "    # Выведем значение индекса и порога на этом узле\n",
    "    print(spacing + 'Индекс', str(node.index))\n",
    "    print(spacing + 'Порог', str(node.t))\n",
    "\n",
    "    # Рекурсионный вызов функции на положительном поддереве\n",
    "    print (spacing + '--> True:')\n",
    "    print_tree(node.true_branch, spacing + \"  \")\n",
    "\n",
    "    # Рекурсионный вызов функции на положительном поддереве\n",
    "    print (spacing + '--> False:')\n",
    "    print_tree(node.false_branch, spacing + \"  \")\n",
    "    \n",
    "print_tree(my_tree)"
   ]
  },
  {
   "cell_type": "code",
   "execution_count": 16,
   "metadata": {
    "colab": {},
    "colab_type": "code",
    "id": "CyvzFQp3abYI"
   },
   "outputs": [],
   "source": [
    "# Получим ответы для обучающей выборки \n",
    "train_answers = predict(train_data, my_tree)"
   ]
  },
  {
   "cell_type": "code",
   "execution_count": 17,
   "metadata": {
    "colab": {},
    "colab_type": "code",
    "id": "Rl6IyN8yabYN"
   },
   "outputs": [],
   "source": [
    "# И получим ответы для тестовой выборки\n",
    "answers = predict(test_data, my_tree)"
   ]
  },
  {
   "cell_type": "code",
   "execution_count": 18,
   "metadata": {
    "colab": {},
    "colab_type": "code",
    "id": "2odXAe7vabYP"
   },
   "outputs": [],
   "source": [
    "# Введем функцию подсчета точности как доли правильных ответов\n",
    "def accuracy_metric(actual, predicted):\n",
    "    correct = 0\n",
    "    for i in range(len(actual)):\n",
    "        if actual[i] == predicted[i]:\n",
    "            correct += 1\n",
    "    return correct / float(len(actual)) * 100.0"
   ]
  },
  {
   "cell_type": "code",
   "execution_count": 19,
   "metadata": {
    "colab": {
     "base_uri": "https://localhost:8080/",
     "height": 35
    },
    "colab_type": "code",
    "executionInfo": {
     "elapsed": 1857,
     "status": "ok",
     "timestamp": 1576241785989,
     "user": {
      "displayName": "Victor Sergevnin",
      "photoUrl": "",
      "userId": "00795386645800606002"
     },
     "user_tz": -180
    },
    "id": "Jn0L6r8CabYS",
    "outputId": "200858a7-20de-494e-eec5-507ff7d79ae8"
   },
   "outputs": [
    {
     "data": {
      "text/plain": [
       "98.57142857142858"
      ]
     },
     "execution_count": 19,
     "metadata": {},
     "output_type": "execute_result"
    }
   ],
   "source": [
    "# Точность на обучающей выборке\n",
    "train_accuracy = accuracy_metric(train_labels, train_answers)\n",
    "train_accuracy"
   ]
  },
  {
   "cell_type": "code",
   "execution_count": 20,
   "metadata": {
    "colab": {
     "base_uri": "https://localhost:8080/",
     "height": 35
    },
    "colab_type": "code",
    "executionInfo": {
     "elapsed": 1840,
     "status": "ok",
     "timestamp": 1576241785991,
     "user": {
      "displayName": "Victor Sergevnin",
      "photoUrl": "",
      "userId": "00795386645800606002"
     },
     "user_tz": -180
    },
    "id": "D__eGtLRabYU",
    "outputId": "7b116cd2-da9f-4752-e28e-2dfc279d88d3"
   },
   "outputs": [
    {
     "data": {
      "text/plain": [
       "100.0"
      ]
     },
     "execution_count": 20,
     "metadata": {},
     "output_type": "execute_result"
    }
   ],
   "source": [
    "# Точность на тестовой выборке\n",
    "test_accuracy = accuracy_metric(test_labels, answers)\n",
    "test_accuracy"
   ]
  },
  {
   "cell_type": "code",
   "execution_count": 21,
   "metadata": {
    "colab": {
     "base_uri": "https://localhost:8080/",
     "height": 462
    },
    "colab_type": "code",
    "executionInfo": {
     "elapsed": 2384,
     "status": "ok",
     "timestamp": 1576241786553,
     "user": {
      "displayName": "Victor Sergevnin",
      "photoUrl": "",
      "userId": "00795386645800606002"
     },
     "user_tz": -180
    },
    "id": "TEHbV9hXabYW",
    "outputId": "17ac3229-63c1-4542-ed42-290ba6377af1",
    "scrolled": false
   },
   "outputs": [
    {
     "data": {
      "text/plain": [
       "Text(0.5, 1.0, 'Test accuracy=100.00')"
      ]
     },
     "execution_count": 21,
     "metadata": {},
     "output_type": "execute_result"
    },
    {
     "data": {
      "image/png": "[encoded data removed]",
      "text/plain": [
       "<Figure size 1152x504 with 2 Axes>"
      ]
     },
     "metadata": {
      "needs_background": "light"
     },
     "output_type": "display_data"
    }
   ],
   "source": [
    "# Визуализируем дерево на графике\n",
    "\n",
    "def get_meshgrid(data, step=.05, border=1.2):\n",
    "    x_min, x_max = data[:, 0].min() - border, data[:, 0].max() + border\n",
    "    y_min, y_max = data[:, 1].min() - border, data[:, 1].max() + border\n",
    "    return np.meshgrid(np.arange(x_min, x_max, step), np.arange(y_min, y_max, step))\n",
    "\n",
    "plt.figure(figsize = (16, 7))\n",
    "\n",
    "# график обучающей выборки\n",
    "plt.subplot(1,2,1)\n",
    "xx, yy = get_meshgrid(train_data)\n",
    "mesh_predictions = np.array(predict(np.c_[xx.ravel(), yy.ravel()], my_tree)).reshape(xx.shape)\n",
    "plt.pcolormesh(xx, yy, mesh_predictions, cmap = light_colors)\n",
    "plt.scatter(train_data[:, 0], train_data[:, 1], c = train_labels, cmap = colors)\n",
    "plt.title(f'Train accuracy={train_accuracy:.2f}')\n",
    "\n",
    "# график тестовой выборки\n",
    "plt.subplot(1,2,2)\n",
    "plt.pcolormesh(xx, yy, mesh_predictions, cmap = light_colors)\n",
    "plt.scatter(test_data[:, 0], test_data[:, 1], c = test_labels, cmap = colors)\n",
    "plt.title(f'Test accuracy={test_accuracy:.2f}')"
   ]
  },
  {
   "cell_type": "markdown",
   "metadata": {},
   "source": [
    "\n",
    "2. Реализуйте дерево для задачи регрессии. Возьмите за основу дерево, реализованное в методичке, заменив механизм предсказания в листе на взятие среднего значения по выборке, и критерий Джини на дисперсию значений."
   ]
  },
  {
   "cell_type": "code",
   "execution_count": 22,
   "metadata": {},
   "outputs": [],
   "source": [
    "# сгенерируем данные\n",
    "regression_X, regression_y = datasets.make_regression(n_samples=500, n_features = 5, n_informative = 3, random_state=5)"
   ]
  },
  {
   "cell_type": "code",
   "execution_count": 23,
   "metadata": {},
   "outputs": [],
   "source": [
    "# И класс терминального узла (листа)\n",
    "\n",
    "class LeafRegression:\n",
    "    \n",
    "    def __init__(self, data, labels):\n",
    "        self.data = data\n",
    "        self.labels = labels\n",
    "        self.prediction = self.predict()\n",
    "        \n",
    "    def predict(self):\n",
    "        \n",
    "        prediction = np.mean(labels)\n",
    "        \n",
    "        return prediction        "
   ]
  },
  {
   "cell_type": "code",
   "execution_count": 24,
   "metadata": {},
   "outputs": [],
   "source": [
    "# Расчет дисперсии\n",
    "\n",
    "def disp(labels):\n",
    "    \n",
    "    impurity = np.var(labels)\n",
    "        \n",
    "    return impurity"
   ]
  },
  {
   "cell_type": "code",
   "execution_count": 25,
   "metadata": {},
   "outputs": [],
   "source": [
    "# Расчет качества\n",
    "\n",
    "def quality_r(left_labels, right_labels, current_disp):\n",
    "\n",
    "    # доля выбоки, ушедшая в левое поддерево\n",
    "    p = float(left_labels.shape[0]) / (left_labels.shape[0] + right_labels.shape[0])\n",
    "    \n",
    "    return current_disp - p * disp(left_labels) - (1 - p) * disp(right_labels)"
   ]
  },
  {
   "cell_type": "code",
   "execution_count": 26,
   "metadata": {},
   "outputs": [],
   "source": [
    "# Нахождение наилучшего разбиения\n",
    "\n",
    "def find_best_split_r(data, labels, min_leaf = 5, n_features = None):\n",
    "    if n_features == None:\n",
    "        n_features = data.shape[1]\n",
    "        \n",
    "    current_disp = disp(labels)\n",
    "\n",
    "    best_quality = 0\n",
    "    best_t = None\n",
    "    best_index = None\n",
    "    \n",
    "    \n",
    "    \n",
    "    for index in range(n_features):\n",
    "        # будем проверять только уникальные значения признака, исключая повторения\n",
    "        t_values = np.unique([row[index] for row in data])\n",
    "        \n",
    "        for t in t_values:\n",
    "            true_data, false_data, true_labels, false_labels = split(data, labels, index, t)\n",
    "            #  пропускаем разбиения, в которых в узле остается менее 5 объектов\n",
    "            if len(true_data) < min_leaf or len(false_data) < min_leaf:\n",
    "                continue\n",
    "            \n",
    "            current_quality = quality(true_labels, false_labels, current_entropy)\n",
    "            \n",
    "            #  выбираем порог, на котором получается максимальный прирост качества\n",
    "            if current_quality > best_quality:\n",
    "                best_quality, best_t, best_index = current_quality, t, index\n",
    "\n",
    "    return best_quality, best_t, best_index"
   ]
  },
  {
   "cell_type": "code",
   "execution_count": 27,
   "metadata": {},
   "outputs": [],
   "source": [
    "# Построение дерева с помощью рекурсивной функции\n",
    "\n",
    "def build_tree_r(data, labels, current_depth=0, min_leaf=None, n_features=None, max_depth=None):\n",
    "    \n",
    "    \n",
    "    attrs = [data, labels, min_leaf, n_features]\n",
    "    \n",
    "    if min_leaf==None:\n",
    "        attrs = [data, labels, n_features]\n",
    "    if n_features==None:\n",
    "        attrs = [data, labels, min_leaf]\n",
    "    if min_leaf==None and n_features==None:\n",
    "        attrs = [data, labels]\n",
    "    quality, t, index = find_best_split(*attrs)\n",
    "           \n",
    "\n",
    "    #  Базовый случай - прекращаем рекурсию, когда нет прироста в качества или достигнута максимальная глубина дерева\n",
    "    if quality == 0 or current_depth == max_depth:\n",
    "        return LeafRegression(data, labels)\n",
    "            \n",
    "\n",
    "    true_data, false_data, true_labels, false_labels = split(data, labels, index, t)\n",
    "    current_depth += 1\n",
    "    # Рекурсивно строим два поддерева\n",
    "    true_branch = build_tree(true_data, true_labels, current_depth=current_depth, \n",
    "                             min_leaf=min_leaf, n_features=n_features, max_depth=max_depth)\n",
    "    false_branch = build_tree(false_data, false_labels, current_depth=current_depth, \n",
    "                             min_leaf=min_leaf, n_features=n_features, max_depth=max_depth)\n",
    "\n",
    "    # Возвращаем класс узла со всеми поддеревьями, то есть целого дерева\n",
    "    return Node(index, t, true_branch, false_branch)"
   ]
  },
  {
   "cell_type": "code",
   "execution_count": 28,
   "metadata": {},
   "outputs": [],
   "source": [
    "def classify_object_r(obj, node):\n",
    "\n",
    "    #  Останавливаем рекурсию, если достигли листа\n",
    "    if isinstance(node, LeafRegression):\n",
    "        answer = node.prediction\n",
    "        return answer\n",
    "\n",
    "    if obj[node.index] <= node.t:\n",
    "        return classify_object(obj, node.true_branch)\n",
    "    else:\n",
    "        return classify_object(obj, node.false_branch)"
   ]
  },
  {
   "cell_type": "code",
   "execution_count": 29,
   "metadata": {},
   "outputs": [],
   "source": [
    "def predict_r(data, tree):\n",
    "    \n",
    "    classes = []\n",
    "    for obj in data:\n",
    "        prediction = classify_object(obj, tree)\n",
    "        classes.append(prediction)\n",
    "    return classes"
   ]
  },
  {
   "cell_type": "code",
   "execution_count": 30,
   "metadata": {},
   "outputs": [],
   "source": [
    "# Разобьем выборку на обучающую и тестовую\n",
    "\n",
    "from sklearn import model_selection\n",
    "\n",
    "train_data, test_data, train_labels, test_labels = model_selection.train_test_split(regression_X, \n",
    "                                                                                    regression_y, \n",
    "                                                                                     test_size = 0.3,\n",
    "                                                                                     random_state = 1)"
   ]
  },
  {
   "cell_type": "code",
   "execution_count": 71,
   "metadata": {},
   "outputs": [],
   "source": [
    "# Построим дерево по обучающей выборке\n",
    "my_tree = build_tree_r(train_data, train_labels, max_depth=12, min_leaf=2, n_features=3)"
   ]
  },
  {
   "cell_type": "code",
   "execution_count": 72,
   "metadata": {
    "scrolled": true
   },
   "outputs": [
    {
     "name": "stdout",
     "output_type": "stream",
     "text": [
      "Индекс 0\n",
      "Порог 0.012864450739320622\n",
      "--> True:\n",
      "  Индекс 0\n",
      "  Порог -0.6509539777177941\n",
      "  --> True:\n",
      "    Индекс 0\n",
      "    Порог -1.0331698266460925\n",
      "    --> True:\n",
      "      Индекс 0\n",
      "      Порог -1.5245405411109931\n",
      "      --> True:\n",
      "        Индекс 0\n",
      "        Порог -1.820202412087891\n",
      "        --> True:\n",
      "          Индекс 0\n",
      "          Порог -2.026401888498568\n",
      "          --> True:\n",
      "            Индекс 0\n",
      "            Порог -2.2620267244625687\n",
      "            --> True:\n",
      "              Прогноз: -195.11478428181886\n",
      "            --> False:\n",
      "              Прогноз: -188.59107187207383\n",
      "          --> False:\n",
      "            Индекс 0\n",
      "            Порог -1.897965882314141\n",
      "            --> True:\n",
      "              Прогноз: -51.91635007050785\n",
      "            --> False:\n",
      "              Прогноз: -223.96454200418762\n",
      "        --> False:\n",
      "          Индекс 0\n",
      "          Порог -1.7553836058934225\n",
      "          --> True:\n",
      "            Индекс 0\n",
      "            Порог -1.767439151879346\n",
      "            --> True:\n",
      "              Прогноз: -99.37323801087683\n",
      "            --> False:\n",
      "              Прогноз: -1.669998182643738\n",
      "          --> False:\n",
      "            Индекс 0\n",
      "            Порог -1.7072739694280112\n",
      "            --> True:\n",
      "              Прогноз: -90.98330605293403\n",
      "            --> False:\n",
      "              Прогноз: -185.74714219662746\n",
      "      --> False:\n",
      "        Индекс 0\n",
      "        Порог -1.2828760007409408\n",
      "        --> True:\n",
      "          Индекс 0\n",
      "          Порог -1.4209039509483905\n",
      "          --> True:\n",
      "            Индекс 0\n",
      "            Порог -1.4453021192196747\n",
      "            --> True:\n",
      "              Прогноз: -131.87515589141753\n",
      "            --> False:\n",
      "              Прогноз: 13.549304297334821\n",
      "          --> False:\n",
      "            Индекс 0\n",
      "            Порог -1.3218556161910482\n",
      "            --> True:\n",
      "              Прогноз: -146.85473506661154\n",
      "            --> False:\n",
      "              Прогноз: -248.2411714557954\n",
      "        --> False:\n",
      "          Индекс 0\n",
      "          Порог -1.1507808365773764\n",
      "          --> True:\n",
      "            Индекс 0\n",
      "            Порог -1.2296165393318836\n",
      "            --> True:\n",
      "              Прогноз: -171.8594537243866\n",
      "            --> False:\n",
      "              Прогноз: -119.884042849069\n",
      "          --> False:\n",
      "            Индекс 0\n",
      "            Порог -1.12598794734522\n",
      "            --> True:\n",
      "              Прогноз: -227.71831177822207\n",
      "            --> False:\n",
      "              Прогноз: -139.46106176908114\n",
      "    --> False:\n",
      "      Индекс 0\n",
      "      Порог -0.8508375304382046\n",
      "      --> True:\n",
      "        Индекс 0\n",
      "        Порог -0.9296810788024984\n",
      "        --> True:\n",
      "          Индекс 0\n",
      "          Порог -0.9985823014737412\n",
      "          --> True:\n",
      "            Индекс 0\n",
      "            Порог -1.0059273554190062\n",
      "            --> True:\n",
      "              Прогноз: -99.30311492431977\n",
      "            --> False:\n",
      "              Прогноз: -60.677467775110784\n",
      "          --> False:\n",
      "            Индекс 0\n",
      "            Порог -0.9467712552549107\n",
      "            --> True:\n",
      "              Прогноз: -81.21552890025073\n",
      "            --> False:\n",
      "              Прогноз: -114.22536199815372\n",
      "        --> False:\n",
      "          Индекс 0\n",
      "          Порог -0.8973154227495824\n",
      "          --> True:\n",
      "            Индекс 0\n",
      "            Порог -0.9119337465923991\n",
      "            --> True:\n",
      "              Прогноз: -82.94818108467254\n",
      "            --> False:\n",
      "              Прогноз: -98.45287824971257\n",
      "          --> False:\n",
      "            Индекс 0\n",
      "            Порог -0.8568531547160899\n",
      "            --> True:\n",
      "              Прогноз: -159.64282207841183\n",
      "            --> False:\n",
      "              Прогноз: 16.86151264924812\n",
      "      --> False:\n",
      "        Индекс 0\n",
      "        Порог -0.7104664469959762\n",
      "        --> True:\n",
      "          Индекс 0\n",
      "          Порог -0.7796364265458805\n",
      "          --> True:\n",
      "            Индекс 0\n",
      "            Порог -0.8077430955509538\n",
      "            --> True:\n",
      "              Прогноз: -140.60363925490108\n",
      "            --> False:\n",
      "              Прогноз: 19.014544066279456\n",
      "          --> False:\n",
      "            Индекс 0\n",
      "            Порог -0.7515272286908925\n",
      "            --> True:\n",
      "              Прогноз: 18.033417592016463\n",
      "            --> False:\n",
      "              Прогноз: -3.905824813743612\n",
      "        --> False:\n",
      "          Индекс 0\n",
      "          Порог -0.6847949422176064\n",
      "          --> True:\n",
      "            Индекс 0\n",
      "            Порог -0.6979910648060624\n",
      "            --> True:\n",
      "              Прогноз: -117.99160820166095\n",
      "            --> False:\n",
      "              Прогноз: -45.033942143454\n",
      "          --> False:\n",
      "            Индекс 0\n",
      "            Порог -0.6725965288011181\n",
      "            --> True:\n",
      "              Прогноз: -191.63474166958636\n",
      "            --> False:\n",
      "              Прогноз: -168.68536535488755\n",
      "  --> False:\n",
      "    Индекс 0\n",
      "    Порог -0.32005350607967015\n",
      "    --> True:\n",
      "      Индекс 0\n",
      "      Порог -0.48051342259111823\n",
      "      --> True:\n",
      "        Индекс 0\n",
      "        Порог -0.5551550175176818\n",
      "        --> True:\n",
      "          Индекс 0\n",
      "          Порог -0.6073149697857689\n",
      "          --> True:\n",
      "            Индекс 0\n",
      "            Порог -0.6285419630461484\n",
      "            --> True:\n",
      "              Прогноз: 71.98308101971199\n",
      "            --> False:\n",
      "              Прогноз: -113.93143129502889\n",
      "          --> False:\n",
      "            Индекс 0\n",
      "            Порог -0.582763661180868\n",
      "            --> True:\n",
      "              Прогноз: -109.65457800488284\n",
      "            --> False:\n",
      "              Прогноз: -15.58685606981135\n",
      "        --> False:\n",
      "          Индекс 0\n",
      "          Порог -0.5151443066958318\n",
      "          --> True:\n",
      "            Индекс 0\n",
      "            Порог -0.5381093191951732\n",
      "            --> True:\n",
      "              Прогноз: -77.27805380117877\n",
      "            --> False:\n",
      "              Прогноз: -74.19329061427094\n",
      "          --> False:\n",
      "            Индекс 0\n",
      "            Порог -0.5087348629978357\n",
      "            --> True:\n",
      "              Прогноз: 123.59415275249768\n",
      "            --> False:\n",
      "              Прогноз: -51.22469075124677\n",
      "      --> False:\n",
      "        Индекс 0\n",
      "        Порог -0.41143385602725513\n",
      "        --> True:\n",
      "          Индекс 0\n",
      "          Порог -0.4664812057119532\n",
      "          --> True:\n",
      "            Индекс 0\n",
      "            Порог -0.4729162614007179\n",
      "            --> True:\n",
      "              Прогноз: -108.93583584627294\n",
      "            --> False:\n",
      "              Прогноз: -227.941099512768\n",
      "          --> False:\n",
      "            Индекс 0\n",
      "            Порог -0.42846381880599993\n",
      "            --> True:\n",
      "              Прогноз: -56.82410524953356\n",
      "            --> False:\n",
      "              Прогноз: -74.07383876744183\n",
      "        --> False:\n",
      "          Индекс 0\n",
      "          Порог -0.3685447790808469\n",
      "          --> True:\n",
      "            Индекс 0\n",
      "            Порог -0.387331363349994\n",
      "            --> True:\n",
      "              Прогноз: 60.652732292802796\n",
      "            --> False:\n",
      "              Прогноз: -45.99297840685338\n",
      "          --> False:\n",
      "            Индекс 0\n",
      "            Порог -0.34790833835230817\n",
      "            --> True:\n",
      "              Прогноз: 5.559698806433655\n",
      "            --> False:\n",
      "              Прогноз: 17.421611537347054\n",
      "    --> False:\n",
      "      Индекс 0\n",
      "      Порог -0.1183665631863533\n",
      "      --> True:\n",
      "        Индекс 0\n",
      "        Порог -0.24772894321806252\n",
      "        --> True:\n",
      "          Индекс 0\n",
      "          Порог -0.28749660960720785\n",
      "          --> True:\n",
      "            Индекс 0\n",
      "            Порог -0.29941252897258813\n",
      "            --> True:\n",
      "              Прогноз: -101.79580896189623\n",
      "            --> False:\n",
      "              Прогноз: -67.76064994136837\n",
      "          --> False:\n",
      "            Индекс 0\n",
      "            Порог -0.268403243505697\n",
      "            --> True:\n",
      "              Прогноз: -37.67846324285922\n",
      "            --> False:\n",
      "              Прогноз: 111.32265953646852\n",
      "        --> False:\n",
      "          Индекс 0\n",
      "          Порог -0.18587577294252736\n",
      "          --> True:\n",
      "            Индекс 0\n",
      "            Порог -0.2048765105875873\n",
      "            --> True:\n",
      "              Прогноз: -82.181573904873\n",
      "            --> False:\n",
      "              Прогноз: 121.9896748745091\n",
      "          --> False:\n",
      "            Индекс 0\n",
      "            Порог -0.13632331022648947\n",
      "            --> True:\n",
      "              Прогноз: 73.50580487739856\n",
      "            --> False:\n",
      "              Прогноз: -26.555050614349835\n",
      "      --> False:\n",
      "        Индекс 0\n",
      "        Порог -0.06392690131249355\n",
      "        --> True:\n",
      "          Индекс 0\n",
      "          Порог -0.09383244866604305\n",
      "          --> True:\n",
      "            Индекс 0\n",
      "            Порог -0.0979004748816344\n",
      "            --> True:\n",
      "              Прогноз: -36.05800499713776\n",
      "            --> False:\n",
      "              Прогноз: 42.222524134826166\n",
      "          --> False:\n",
      "            Индекс 0\n",
      "            Порог -0.0848357991956406\n",
      "            --> True:\n",
      "              Прогноз: 104.50025098638571\n",
      "            --> False:\n",
      "              Прогноз: -1.865056169967669\n",
      "        --> False:\n",
      "          Индекс 0\n",
      "          Порог -0.031350987665935394\n",
      "          --> True:\n",
      "            Индекс 0\n",
      "            Порог -0.04140652986118012\n",
      "            --> True:\n",
      "              Прогноз: 71.94932927397144\n",
      "            --> False:\n",
      "              Прогноз: -32.19411692494484\n",
      "          --> False:\n",
      "            Индекс 0\n",
      "            Порог -0.009312061608198703\n",
      "            --> True:\n",
      "              Прогноз: 80.37013654559506\n",
      "            --> False:\n",
      "              Прогноз: -25.01693876249216\n",
      "--> False:\n",
      "  Индекс 0\n",
      "  Порог 0.6369078928313071\n",
      "  --> True:\n",
      "    Индекс 0\n",
      "    Порог 0.3207673232073724\n",
      "    --> True:\n",
      "      Индекс 0\n",
      "      Порог 0.16870521153002951\n",
      "      --> True:\n",
      "        Индекс 0\n",
      "        Порог 0.0817437506157652\n",
      "        --> True:\n",
      "          Индекс 0\n",
      "          Порог 0.03570858988632745\n",
      "          --> True:\n",
      "            Индекс 0\n",
      "            Порог 0.029672062243668203\n",
      "            --> True:\n",
      "              Прогноз: 47.546562868251755\n",
      "            --> False:\n",
      "              Прогноз: 120.68324246811099\n",
      "          --> False:\n",
      "            Индекс 0\n",
      "            Порог 0.059144243219039896\n",
      "            --> True:\n",
      "              Прогноз: 74.60192946523804\n",
      "            --> False:\n",
      "              Прогноз: -26.91290926481701\n",
      "        --> False:\n",
      "          Индекс 0\n",
      "          Порог 0.13175649963743322\n",
      "          --> True:\n",
      "            Индекс 0\n",
      "            Порог 0.12238177560164303\n",
      "            --> True:\n",
      "              Прогноз: 66.99340422264689\n",
      "            --> False:\n",
      "              Прогноз: 55.32536144303508\n",
      "          --> False:\n",
      "            Индекс 0\n",
      "            Порог 0.1517921159130555\n",
      "            --> True:\n",
      "              Прогноз: 32.95502670848834\n",
      "            --> False:\n",
      "              Прогноз: -127.69579678411921\n",
      "      --> False:\n",
      "        Индекс 0\n",
      "        Порог 0.2423879802877649\n",
      "        --> True:\n",
      "          Индекс 0\n",
      "          Порог 0.19766009104249851\n",
      "          --> True:\n",
      "            Индекс 0\n",
      "            Порог 0.18963687982595206\n",
      "            --> True:\n",
      "              Прогноз: 130.75014358381176\n",
      "            --> False:\n",
      "              Прогноз: 77.01748504579271\n",
      "          --> False:\n",
      "            Индекс 0\n",
      "            Порог 0.2212541228509997\n",
      "            --> True:\n",
      "              Прогноз: -41.909789216082764\n",
      "            --> False:\n",
      "              Прогноз: 78.21940821998976\n",
      "        --> False:\n",
      "          Индекс 0\n",
      "          Порог 0.25745393919634973\n",
      "          --> True:\n",
      "            Индекс 0\n",
      "            Порог 0.2461706269800775\n",
      "            --> True:\n",
      "              Прогноз: -78.29299303636401\n",
      "            --> False:\n",
      "              Прогноз: -12.956770123181279\n",
      "          --> False:\n",
      "            Индекс 0\n",
      "            Порог 0.2871527533836383\n",
      "            --> True:\n",
      "              Прогноз: -82.07714344555775\n",
      "            --> False:\n",
      "              Прогноз: -62.820172865170576\n",
      "    --> False:\n",
      "      Индекс 0\n",
      "      Порог 0.4935922818543276\n",
      "      --> True:\n",
      "        Индекс 0\n",
      "        Порог 0.40756083013767885\n",
      "        --> True:\n",
      "          Индекс 0\n",
      "          Порог 0.3417824814910607\n",
      "          --> True:\n",
      "            Индекс 0\n",
      "            Порог 0.3264562830366876\n",
      "            --> True:\n",
      "              Прогноз: 46.08084240549584\n",
      "            --> False:\n",
      "              Прогноз: 126.2173513542285\n",
      "          --> False:\n",
      "            Индекс 0\n",
      "            Порог 0.37576550232906397\n",
      "            --> True:\n",
      "              Прогноз: 178.31925911224803\n",
      "            --> False:\n",
      "              Прогноз: 173.66066029222935\n",
      "        --> False:\n",
      "          Индекс 0\n",
      "          Порог 0.44260128079993044\n",
      "          --> True:\n",
      "            Индекс 0\n",
      "            Порог 0.43157019537451\n",
      "            --> True:\n",
      "              Прогноз: 95.16177578640892\n",
      "            --> False:\n",
      "              Прогноз: -29.959084322903863\n",
      "          --> False:\n",
      "            Индекс 0\n",
      "            Порог 0.47350502379976445\n",
      "            --> True:\n",
      "              Прогноз: 131.1436363639749\n",
      "            --> False:\n",
      "              Прогноз: 15.48587550234959\n",
      "      --> False:\n",
      "        Индекс 0\n",
      "        Порог 0.5491862248720575\n",
      "        --> True:\n",
      "          Индекс 0\n",
      "          Порог 0.5118593853103196\n",
      "          --> True:\n",
      "            Индекс 0\n",
      "            Порог 0.5013809665863412\n",
      "            --> True:\n",
      "              Прогноз: -2.4919514428154486\n",
      "            --> False:\n",
      "              Прогноз: -2.1163103823470735\n",
      "          --> False:\n",
      "            Индекс 0\n",
      "            Порог 0.5282516931829069\n",
      "            --> True:\n",
      "              Прогноз: 136.40289126912677\n",
      "            --> False:\n",
      "              Прогноз: 11.91310089021501\n",
      "        --> False:\n",
      "          Индекс 0\n",
      "          Порог 0.6075032446813455\n",
      "          --> True:\n",
      "            Индекс 0\n",
      "            Порог 0.606870319141853\n",
      "            --> True:\n",
      "              Прогноз: -28.13766466493703\n",
      "            --> False:\n",
      "              Прогноз: 0.6477310138810282\n",
      "          --> False:\n",
      "            Индекс 0\n",
      "            Порог 0.6123560637837783\n",
      "            --> True:\n",
      "              Прогноз: 92.80293744218062\n",
      "            --> False:\n",
      "              Прогноз: 92.76297698621123\n",
      "  --> False:\n",
      "    Индекс 0\n",
      "    Порог 1.1039166280124317\n",
      "    --> True:\n",
      "      Индекс 0\n",
      "      Порог 0.9196164102486445\n",
      "      --> True:\n",
      "        Индекс 0\n",
      "        Порог 0.7494676156917772\n",
      "        --> True:\n",
      "          Индекс 0\n",
      "          Порог 0.6831842320407128\n",
      "          --> True:\n",
      "            Индекс 0\n",
      "            Порог 0.6620447009031951\n",
      "            --> True:\n",
      "              Прогноз: 11.483338280119007\n",
      "            --> False:\n",
      "              Прогноз: 42.36093266766993\n",
      "          --> False:\n",
      "            Индекс 0\n",
      "            Порог 0.7170241651879423\n",
      "            --> True:\n",
      "              Прогноз: 27.983241514989903\n",
      "            --> False:\n",
      "              Прогноз: 1.8219990097495966\n",
      "        --> False:\n",
      "          Индекс 0\n",
      "          Порог 0.8160698715369655\n",
      "          --> True:\n",
      "            Индекс 0\n",
      "            Порог 0.7905576915450346\n",
      "            --> True:\n",
      "              Прогноз: 94.33045762598977\n",
      "            --> False:\n",
      "              Прогноз: 55.092028291974906\n",
      "          --> False:\n",
      "            Индекс 0\n",
      "            Порог 0.895000938790005\n",
      "            --> True:\n",
      "              Прогноз: 108.35476093557017\n",
      "            --> False:\n",
      "              Прогноз: 100.85494493810378\n",
      "      --> False:\n",
      "        Индекс 0\n",
      "        Порог 1.007609321308778\n",
      "        --> True:\n",
      "          Индекс 0\n",
      "          Порог 0.955543081118758\n",
      "          --> True:\n",
      "            Индекс 0\n",
      "            Порог 0.9503447080453289\n",
      "            --> True:\n",
      "              Прогноз: 163.17096504765476\n",
      "            --> False:\n",
      "              Прогноз: 67.4988930903603\n",
      "          --> False:\n",
      "            Индекс 0\n",
      "            Порог 0.9954563216091926\n",
      "            --> True:\n",
      "              Прогноз: 88.18629178422957\n",
      "            --> False:\n",
      "              Прогноз: 45.1430458306657\n",
      "        --> False:\n",
      "          Индекс 0\n",
      "          Порог 1.049514306245706\n",
      "          --> True:\n",
      "            Индекс 0\n",
      "            Порог 1.0274641853954751\n",
      "            --> True:\n",
      "              Прогноз: -83.57726492650674\n",
      "            --> False:\n",
      "              Прогноз: 141.63145195217447\n",
      "          --> False:\n",
      "            Индекс 0\n",
      "            Порог 1.085855077334274\n",
      "            --> True:\n",
      "              Прогноз: 153.36753355323864\n",
      "            --> False:\n",
      "              Прогноз: 155.0953884974607\n",
      "    --> False:\n",
      "      Индекс 0\n",
      "      Порог 1.4826628733703948\n",
      "      --> True:\n",
      "        Индекс 0\n",
      "        Порог 1.2864457382920482\n",
      "        --> True:\n",
      "          Индекс 0\n",
      "          Порог 1.168251701967374\n",
      "          --> True:\n",
      "            Индекс 0\n",
      "            Порог 1.1472020816149164\n",
      "            --> True:\n",
      "              Прогноз: 139.39437938798488\n",
      "            --> False:\n",
      "              Прогноз: 75.11936128817567\n",
      "          --> False:\n",
      "            Индекс 0\n",
      "            Порог 1.2256769468646536\n",
      "            --> True:\n",
      "              Прогноз: 97.6986762624371\n",
      "            --> False:\n",
      "              Прогноз: 134.90179171484553\n",
      "        --> False:\n",
      "          Индекс 0\n",
      "          Порог 1.360043803790187\n",
      "          --> True:\n",
      "            Индекс 0\n",
      "            Порог 1.3478958451288614\n",
      "            --> True:\n",
      "              Прогноз: 70.7293578527922\n",
      "            --> False:\n",
      "              Прогноз: 136.29995982276108\n",
      "          --> False:\n",
      "            Индекс 0\n",
      "            Порог 1.4448594976242957\n",
      "            --> True:\n",
      "              Прогноз: 86.6133763838713\n",
      "            --> False:\n",
      "              Прогноз: 162.48753888551533\n",
      "      --> False:\n",
      "        Индекс 0\n",
      "        Порог 1.8160926664617423\n",
      "        --> True:\n",
      "          Индекс 0\n",
      "          Порог 1.6668644384368703\n",
      "          --> True:\n",
      "            Индекс 0\n",
      "            Порог 1.5912962935225439\n",
      "            --> True:\n",
      "              Прогноз: 44.2137334849867\n",
      "            --> False:\n",
      "              Прогноз: 101.66161419990401\n",
      "          --> False:\n",
      "            Индекс 0\n",
      "            Порог 1.7289751003635236\n",
      "            --> True:\n",
      "              Прогноз: 270.20053635702754\n",
      "            --> False:\n",
      "              Прогноз: 148.62266104857895\n",
      "        --> False:\n",
      "          Индекс 0\n",
      "          Порог 2.057948924355653\n",
      "          --> True:\n",
      "            Индекс 0\n",
      "            Порог 1.912929704197405\n",
      "            --> True:\n",
      "              Прогноз: 182.46330511512397\n",
      "            --> False:\n",
      "              Прогноз: 135.317095744941\n",
      "          --> False:\n",
      "            Индекс 0\n",
      "            Порог 2.1470206610734066\n",
      "            --> True:\n",
      "              Прогноз: 134.77298747408065\n",
      "            --> False:\n",
      "              Прогноз: 264.2025792059016\n"
     ]
    }
   ],
   "source": [
    "# Напечатаем ход нашего дерева\n",
    "def print_tree_r(node, spacing=\"\"):\n",
    "\n",
    "    # Если лист, то выводим его прогноз\n",
    "    if isinstance(node, LeafRegression):\n",
    "        print(spacing + \"Прогноз:\", node.prediction)\n",
    "        return\n",
    "\n",
    "    # Выведем значение индекса и порога на этом узле\n",
    "    print(spacing + 'Индекс', str(node.index))\n",
    "    print(spacing + 'Порог', str(node.t))\n",
    "\n",
    "    # Рекурсионный вызов функции на положительном поддереве\n",
    "    print (spacing + '--> True:')\n",
    "    print_tree(node.true_branch, spacing + \"  \")\n",
    "\n",
    "    # Рекурсионный вызов функции на положительном поддереве\n",
    "    print (spacing + '--> False:')\n",
    "    print_tree(node.false_branch, spacing + \"  \")\n",
    "    \n",
    "print_tree_r(my_tree)"
   ]
  },
  {
   "cell_type": "code",
   "execution_count": 73,
   "metadata": {},
   "outputs": [],
   "source": [
    "# Получим ответы для обучающей выборки \n",
    "train_answers = predict_r(train_data, my_tree)"
   ]
  },
  {
   "cell_type": "code",
   "execution_count": 74,
   "metadata": {},
   "outputs": [],
   "source": [
    "# И получим ответы для тестовой выборки\n",
    "answers = predict_r(test_data, my_tree)"
   ]
  },
  {
   "cell_type": "code",
   "execution_count": 75,
   "metadata": {},
   "outputs": [],
   "source": [
    "# Введем функцию подсчета точности как доли правильных ответов\n",
    "def r2_metric(actual, predicted):\n",
    "    mean_ = np.mean(actual)\n",
    "    r2 = 1 - np.sum((predicted-actual)**2)/np.sum((actual-mean_)**2)\n",
    "    return r2"
   ]
  },
  {
   "cell_type": "code",
   "execution_count": 76,
   "metadata": {},
   "outputs": [
    {
     "data": {
      "text/plain": [
       "0.4737879168937922"
      ]
     },
     "execution_count": 76,
     "metadata": {},
     "output_type": "execute_result"
    }
   ],
   "source": [
    "# Точность на обучающей выборке\n",
    "train_r2 = r2_metric(train_labels, train_answers)\n",
    "train_r2"
   ]
  },
  {
   "cell_type": "code",
   "execution_count": 77,
   "metadata": {},
   "outputs": [
    {
     "data": {
      "text/plain": [
       "0.15205002383124566"
      ]
     },
     "execution_count": 77,
     "metadata": {},
     "output_type": "execute_result"
    }
   ],
   "source": [
    "# Точность на тестовой выборке\n",
    "test_r2 = r2_metric(test_labels, answers)\n",
    "test_r2"
   ]
  },
  {
   "cell_type": "code",
   "execution_count": 78,
   "metadata": {},
   "outputs": [
    {
     "data": {
      "text/plain": [
       "Text(0.5, 1.0, 'Test R^2=0.15')"
      ]
     },
     "execution_count": 78,
     "metadata": {},
     "output_type": "execute_result"
    },
    {
     "data": {
      "image/png": "[encoded data removed]",
      "text/plain": [
       "<Figure size 1152x504 with 2 Axes>"
      ]
     },
     "metadata": {
      "needs_background": "light"
     },
     "output_type": "display_data"
    }
   ],
   "source": [
    "# Визуализируем дерево на графике\n",
    "\n",
    "def get_meshgrid(data, step=.05, border=1.2):\n",
    "    x_min, x_max = data[:, 0].min() - border, data[:, 0].max() + border\n",
    "    y_min, y_max = data[:, 1].min() - border, data[:, 1].max() + border\n",
    "    return np.meshgrid(np.arange(x_min, x_max, step), np.arange(y_min, y_max, step))\n",
    "\n",
    "plt.figure(figsize = (16, 7))\n",
    "\n",
    "# график обучающей выборки\n",
    "plt.subplot(1,2,1)\n",
    "xx, yy = get_meshgrid(train_data)\n",
    "mesh_predictions = np.array(predict_r(np.c_[xx.ravel(), yy.ravel()], my_tree)).reshape(xx.shape)\n",
    "plt.pcolormesh(xx, yy, mesh_predictions, cmap = light_colors)\n",
    "plt.scatter(train_data[:, 0], train_data[:, 1], c = train_labels, cmap = colors)\n",
    "plt.title(f'Train R^2={train_r2:.2f}')\n",
    "\n",
    "# график тестовой выборки\n",
    "plt.subplot(1,2,2)\n",
    "plt.pcolormesh(xx, yy, mesh_predictions, cmap = light_colors)\n",
    "plt.scatter(test_data[:, 0], test_data[:, 1], c = test_labels, cmap = colors)\n",
    "plt.title(f'Test R^2={test_r2:.2f}')"
   ]
  },
  {
   "cell_type": "code",
   "execution_count": null,
   "metadata": {},
   "outputs": [],
   "source": []
  }
 ],
 "metadata": {
  "colab": {
   "collapsed_sections": [],
   "name": "Lesson_4.ipynb",
   "provenance": []
  },
  "kernelspec": {
   "display_name": "Python 3",
   "language": "python",
   "name": "python3"
  },
  "language_info": {
   "codemirror_mode": {
    "name": "ipython",
    "version": 3
   },
   "file_extension": ".py",
   "mimetype": "text/x-python",
   "name": "python",
   "nbconvert_exporter": "python",
   "pygments_lexer": "ipython3",
   "version": "3.7.4"
  }
 },
 "nbformat": 4,
 "nbformat_minor": 1
}
